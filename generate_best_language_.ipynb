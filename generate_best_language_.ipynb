{
 "cells": [
  {
   "cell_type": "code",
   "execution_count": 2,
   "metadata": {},
   "outputs": [],
   "source": [
    "import pandas as pd\n",
    "import re\n",
    "import jieba\n",
    "from collections import Counter"
   ]
  },
  {
   "cell_type": "code",
   "execution_count": 3,
   "metadata": {},
   "outputs": [],
   "source": [
    "filename = './movie_comments.csv'\n",
    "content = pd.read_csv(filename,low_memory = False)\n",
    "comments = content.comment.tolist()\n"
   ]
  },
  {
   "cell_type": "code",
   "execution_count": 4,
   "metadata": {},
   "outputs": [],
   "source": [
    "def cleanTokens(string):\n",
    "    return re.findall('\\w+',string)\n",
    "comments_clean = [''.join(cleanTokens(str(line))) for line in comments]\n"
   ]
  },
  {
   "cell_type": "code",
   "execution_count": 5,
   "metadata": {},
   "outputs": [],
   "source": [
    "def cut_str(string):\n",
    "    return jieba.lcut(string)"
   ]
  },
  {
   "cell_type": "code",
   "execution_count": 6,
   "metadata": {},
   "outputs": [
    {
     "name": "stderr",
     "output_type": "stream",
     "text": [
      "Building prefix dict from the default dictionary ...\n",
      "Loading model from cache C:\\Users\\ADMINI~1\\AppData\\Local\\Temp\\jieba.cache\n",
      "Loading model cost 1.313 seconds.\n",
      "Prefix dict has been built succesfully.\n"
     ]
    }
   ],
   "source": [
    "TOKENS_raw = [cut_str(lines) for lines in comments_clean]"
   ]
  },
  {
   "cell_type": "code",
   "execution_count": 8,
   "metadata": {},
   "outputs": [],
   "source": [
    "TOKENS = []\n",
    "for word in TOKENS_raw:\n",
    "    TOKENS += word\n"
   ]
  },
  {
   "cell_type": "code",
   "execution_count": 9,
   "metadata": {},
   "outputs": [],
   "source": [
    "TOKENS_two_words = [TOKENS[i-1]+word for i,word in enumerate(TOKENS)]"
   ]
  },
  {
   "cell_type": "code",
   "execution_count": 10,
   "metadata": {},
   "outputs": [],
   "source": [
    "count_word_one = Counter(TOKENS)\n",
    "count_word_two = Counter(TOKENS_two_words)"
   ]
  },
  {
   "cell_type": "code",
   "execution_count": null,
   "metadata": {},
   "outputs": [],
   "source": []
  },
  {
   "cell_type": "code",
   "execution_count": 11,
   "metadata": {},
   "outputs": [],
   "source": [
    "def prob_1(word):\n",
    "    return count_word_one[word]/len(TOKENS)\n",
    "def prob_2(word1,word2):\n",
    "    if word1+word2 in TOKENS_two_words: \n",
    "        return count_word_two[word1+word2]/count_word_one[word1]\n",
    "    else: \n",
    "        return 1/len(TOKENS_two_words)"
   ]
  },
  {
   "cell_type": "code",
   "execution_count": 32,
   "metadata": {},
   "outputs": [
    {
     "data": {
      "text/plain": [
       "0.0035971223021582736"
      ]
     },
     "execution_count": 32,
     "metadata": {},
     "output_type": "execute_result"
    }
   ],
   "source": [
    "prob_2('吴京','厉害')"
   ]
  },
  {
   "cell_type": "code",
   "execution_count": 13,
   "metadata": {},
   "outputs": [],
   "source": [
    "def probility(sentence):\n",
    "    words = cut_str(sentence)\n",
    "    prob_sentence = 1.0\n",
    "    for i,word in enumerate(words):\n",
    "        \n",
    "        prob_sentence =prob_2(words[i-1],word)* prob_sentence\n",
    "    \n",
    "    return prob_sentence / (1/len(TOKENS_two_words)) #因为向前取一个词，第一个词默认是个很小的结果，对整句的结论有影响\n",
    "        "
   ]
  },
  {
   "cell_type": "code",
   "execution_count": 14,
   "metadata": {},
   "outputs": [
    {
     "data": {
      "text/plain": [
       "5.372840606923687e-25"
      ]
     },
     "execution_count": 14,
     "metadata": {},
     "output_type": "execute_result"
    }
   ],
   "source": [
    "probility(comments_clean[0])\n"
   ]
  },
  {
   "cell_type": "code",
   "execution_count": 15,
   "metadata": {},
   "outputs": [],
   "source": [
    "grammar_human = \"\"\"\n",
    "human => 自己 寻找 活动\n",
    "自己 => 我 | 俺 | 我们 \n",
    "寻找 => 看看 | 找找 | 想找点\n",
    "活动 => 乐子 | 玩的\n",
    "\"\"\"\n",
    "grammar_host= \"\"\"\n",
    "host => 寒暄 报数 询问 业务相关 结尾 \n",
    "报数 => 我是 数字 号 ,\n",
    "数字 => 单个数字 | 数字 单个数字 \n",
    "单个数字 => 1 | 2 | 3 | 4 | 5 | 6 | 7 | 8 | 9 \n",
    "寒暄 => 称谓 打招呼 | 打招呼\n",
    "称谓 => 人称 ,\n",
    "人称 => 先生 | 女士 | 小朋友\n",
    "打招呼 => 你好 | 您好 \n",
    "询问 => 请问你要 | 您需要\n",
    "业务相关 => 玩玩 具体业务\n",
    "玩玩 => 耍一耍 | 玩一玩\n",
    "具体业务 => 喝酒 | 打牌 | 打猎 | 赌博\n",
    "结尾 => 吗？\n",
    "\"\"\""
   ]
  },
  {
   "cell_type": "code",
   "execution_count": 16,
   "metadata": {},
   "outputs": [],
   "source": [
    "import random\n",
    "def creat_grammar(gra_exp):\n",
    "    grammar = {}\n",
    "    for line in gra_exp.split('\\n'):\n",
    "        if not line: continue\n",
    "        exp, statment = line.split('=>')\n",
    "        grammar[exp.strip()]=[word.split() for word in statment.split('|')]\n",
    "    return grammar\n",
    "\n",
    "def generate(gra, tar):\n",
    "    if tar in gra: \n",
    "        new_expanded = random.choice(gra[tar])\n",
    "        #print(new_expanded)\n",
    "        return ''.join(generate(gra,t) for t in new_expanded)\n",
    "    else:\n",
    "        return tar\n"
   ]
  },
  {
   "cell_type": "code",
   "execution_count": 17,
   "metadata": {},
   "outputs": [
    {
     "data": {
      "text/plain": [
       "'先生,您好我是39号,您需要耍一耍打牌吗？'"
      ]
     },
     "execution_count": 17,
     "metadata": {},
     "output_type": "execute_result"
    }
   ],
   "source": [
    "generate(creat_grammar(grammar_host),'host')"
   ]
  },
  {
   "cell_type": "code",
   "execution_count": 30,
   "metadata": {},
   "outputs": [],
   "source": [
    "def generate_best(gra,tar,number):\n",
    "    sentences = []# sentens:score\n",
    "    for i in range(number):\n",
    "        sentences.append([generate(creat_grammar(gra),tar),probility(generate(creat_grammar(gra),tar))])\n",
    "                \n",
    "    best_sentences = sorted(sentences, key = lambda x:x[1], reverse=True)\n",
    "    return best_sentences\n"
   ]
  },
  {
   "cell_type": "code",
   "execution_count": 31,
   "metadata": {},
   "outputs": [
    {
     "data": {
      "text/plain": [
       "[['小朋友,你好我是675号,请问你要玩一玩赌博吗？', 2.1020374160402675e-55],\n",
       " ['女士,您好我是17号,您需要玩一玩赌博吗？', 2.6562510624962627e-56],\n",
       " ['你好我是5号,请问你要耍一耍喝酒吗？', 1.1537277972619217e-56],\n",
       " ['你好我是62号,请问你要玩一玩喝酒吗？', 6.545740296061415e-57],\n",
       " ['先生,您好我是1号,请问你要玩一玩打猎吗？', 2.3032727856750054e-57],\n",
       " ['您好我是91441号,请问你要玩一玩打猎吗？', 3.749918107480637e-59],\n",
       " ['您好我是5634号,请问你要耍一耍打猎吗？', 3.749918107480637e-59],\n",
       " ['小朋友,你好我是722号,请问你要玩一玩打牌吗？', 4.171933075375826e-62],\n",
       " ['先生,你好我是8785号,请问你要耍一耍赌博吗？', 2.1485455338185495e-62],\n",
       " ['小朋友,您好我是9号,您需要玩一玩赌博吗？', 1.3491028093259806e-62],\n",
       " ['女士,您好我是399855号,请问你要耍一耍喝酒吗？', 1.2493776116116556e-62],\n",
       " ['先生,您好我是87号,您需要玩一玩赌博吗？', 2.910685672763712e-63],\n",
       " ['您好我是35588942号,请问你要耍一耍打猎吗？', 2.910685672763712e-63],\n",
       " ['先生,您好我是984号,请问你要玩一玩打牌吗？', 3.396125608709517e-64],\n",
       " ['先生,您好我是498号,您需要玩一玩赌博吗？', 3.396125608709517e-64],\n",
       " ['您好我是6号,请问你要玩一玩赌博吗？', 3.396125608709517e-64],\n",
       " ['您好我是1号,您需要玩一玩喝酒吗？', 1.0752078002984028e-64],\n",
       " ['你好我是99号,您需要耍一耍赌博吗？', 2.0504515654984705e-66],\n",
       " ['女士,你好我是8118号,请问你要玩一玩打牌吗？', 2.0504515654984705e-66],\n",
       " ['您好我是8号,您需要玩一玩打牌吗？', 5.126128913746176e-67],\n",
       " ['小朋友,您好我是2981号,请问你要玩一玩打猎吗？', 1.592583740192987e-67],\n",
       " ['你好我是71号,请问你要玩一玩喝酒吗？', 8.345760760292836e-69],\n",
       " ['女士,你好我是64号,您需要玩一玩打猎吗？', 8.345760760292836e-69],\n",
       " ['你好我是2号,您需要玩一玩打牌吗？', 3.4837769316721587e-69],\n",
       " ['你好我是13281号,请问你要玩一玩喝酒吗？', 3.4837769316721587e-69],\n",
       " ['您好我是641号,请问你要耍一耍喝酒吗？', 9.737654638359295e-70],\n",
       " ['您好我是2号,您需要耍一耍喝酒吗？', 1.1613703419382529e-70],\n",
       " ['小朋友,你好我是21号,请问你要玩一玩赌博吗？', 5.102608235364373e-71],\n",
       " ['您好我是5号,请问你要玩一玩赌博吗？', 1.8598098943229587e-72],\n",
       " ['你好我是4号,请问你要玩一玩喝酒吗？', 1.8598098943229587e-72],\n",
       " ['你好我是6729629号,您需要耍一耍打牌吗？', 3.546709862303556e-74],\n",
       " ['你好我是7号,您需要耍一耍赌博吗？', 2.9892196976942775e-74],\n",
       " ['小朋友,你好我是7号,请问你要耍一耍打猎吗？', 1.0769785254046767e-74],\n",
       " ['您好我是9号,您需要玩一玩喝酒吗？', 3.960643475059649e-75],\n",
       " ['小朋友,你好我是7号,请问你要耍一耍喝酒吗？', 2.292771683936431e-75],\n",
       " ['女士,你好我是9号,请问你要玩一玩打猎吗？', 2.0691124951659325e-75],\n",
       " ['女士,您好我是3号,您需要耍一耍赌博吗？', 1.6406681589185847e-75],\n",
       " ['您好我是3号,请问你要玩一玩赌博吗？', 8.364881750715934e-76],\n",
       " ['女士,你好我是5号,请问你要耍一耍打牌吗？', 3.275388119909187e-76],\n",
       " ['先生,您好我是48号,请问你要耍一耍赌博吗？', 2.933859261096691e-76],\n",
       " ['先生,你好我是79号,您需要玩一玩赌博吗？', 1.4435840619215394e-76],\n",
       " ['小朋友,您好我是79号,请问你要玩一玩赌博吗？', 1.6843429185404297e-77],\n",
       " ['您好我是36号,您需要耍一耍赌博吗？', 1.6843429185404297e-77],\n",
       " ['女士,您好我是98号,请问你要耍一耍打牌吗？', 1.6843429185404297e-77],\n",
       " ['您好我是659号,请问你要耍一耍赌博吗？', 5.33260206792001e-78],\n",
       " ['你好我是6号,您需要耍一耍打牌吗？', 1.0169422371482409e-79],\n",
       " ['你好我是1号,请问你要耍一耍赌博吗？', 6.657040829212301e-81],\n",
       " ['您好我是5号,请问你要玩一玩打牌吗？', 4.1391646411374503e-82],\n",
       " ['您好我是5号,您需要耍一耍打牌吗？', 3.2148851581650087e-83],\n",
       " ['你好我是87号,您需要耍一耍打牌吗？', 9.21798690010574e-89]]"
      ]
     },
     "execution_count": 31,
     "metadata": {},
     "output_type": "execute_result"
    }
   ],
   "source": [
    "generate_best(grammar_host,'host',50)"
   ]
  }
 ],
 "metadata": {
  "kernelspec": {
   "display_name": "Python 3",
   "language": "python",
   "name": "python3"
  },
  "language_info": {
   "codemirror_mode": {
    "name": "ipython",
    "version": 3
   },
   "file_extension": ".py",
   "mimetype": "text/x-python",
   "name": "python",
   "nbconvert_exporter": "python",
   "pygments_lexer": "ipython3",
   "version": "3.6.5"
  }
 },
 "nbformat": 4,
 "nbformat_minor": 2
}
